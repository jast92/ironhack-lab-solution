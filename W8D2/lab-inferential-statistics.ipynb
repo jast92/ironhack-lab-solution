{
 "cells": [
  {
   "cell_type": "code",
   "execution_count": 1,
   "metadata": {},
   "outputs": [],
   "source": [
    "import math"
   ]
  },
  {
   "cell_type": "markdown",
   "metadata": {},
   "source": [
    "## Hypothesis testing"
   ]
  },
  {
   "cell_type": "markdown",
   "metadata": {},
   "source": [
    "### Hypotheses"
   ]
  },
  {
   "cell_type": "markdown",
   "metadata": {},
   "source": [
    "* Null Hypothesis H0: The sample's mean is not significantly different from the population's mean: my_0 = 120\n",
    "* Alternative Hypothesis H1: The sample's mean is different from the population's mean: my_0 != 120"
   ]
  },
  {
   "cell_type": "markdown",
   "metadata": {},
   "source": [
    "### Two-sided test\n",
    "* I use a two-sided test because our alternative hypothesis states that the mean is not equal 120. Whether it is greater or smaller than the mean doesn't matter here.\n",
    "* I can use a z test since the sample size is greater than 100 and I can assume a normal distribution."
   ]
  },
  {
   "cell_type": "markdown",
   "metadata": {},
   "source": [
    "### Confidence Interval\n",
    "\n",
    "* At 90% confidence interval, the z score is |1.64|\n",
    "* At 95% confidence interval, the z score is |1.96|\n",
    "* At 99% confidence interval, the z score is |2.58|"
   ]
  },
  {
   "cell_type": "markdown",
   "metadata": {},
   "source": [
    "### Calculate Z test statistic"
   ]
  },
  {
   "cell_type": "code",
   "execution_count": 9,
   "metadata": {},
   "outputs": [
    {
     "name": "stdout",
     "output_type": "stream",
     "text": [
      "The value of the Z statistic is: 4.761904761904759\n"
     ]
    }
   ],
   "source": [
    "z = ((130.1 - 120) / (21.21 / math.sqrt(100)))\n",
    "\n",
    "print(f\"The value of the Z statistic is: {z}\")"
   ]
  },
  {
   "cell_type": "code",
   "execution_count": 10,
   "metadata": {},
   "outputs": [
    {
     "name": "stdout",
     "output_type": "stream",
     "text": [
      "Since the absolute value of the z scores of all confidence intervals are lower than the absolute value of the z statistic = 4.762, the null hypothesis Ho may be rejected with the respective confidence intervals!\n"
     ]
    }
   ],
   "source": [
    "print(f\"Since the absolute value of the z scores of all confidence intervals are lower than the absolute value of the z statistic = {round(z,3)}, the null hypothesis Ho may be rejected with the respective confidence intervals!\")"
   ]
  },
  {
   "cell_type": "code",
   "execution_count": null,
   "metadata": {},
   "outputs": [],
   "source": []
  },
  {
   "cell_type": "code",
   "execution_count": null,
   "metadata": {},
   "outputs": [],
   "source": []
  }
 ],
 "metadata": {
  "kernelspec": {
   "display_name": "Python 3",
   "language": "python",
   "name": "python3"
  },
  "language_info": {
   "codemirror_mode": {
    "name": "ipython",
    "version": 3
   },
   "file_extension": ".py",
   "mimetype": "text/x-python",
   "name": "python",
   "nbconvert_exporter": "python",
   "pygments_lexer": "ipython3",
   "version": "3.8.3"
  }
 },
 "nbformat": 4,
 "nbformat_minor": 4
}
